{
 "cells": [
  {
   "cell_type": "code",
   "execution_count": null,
   "id": "1265ae31",
   "metadata": {},
   "outputs": [],
   "source": [
    "#Load CSV files"
   ]
  },
  {
   "cell_type": "code",
   "execution_count": 1,
   "id": "83b5bc74",
   "metadata": {},
   "outputs": [],
   "source": [
    "# Add Matplotlib inline magic command\n",
    "%matplotlib inline\n",
    "# Dependencies and Setup\n",
    "import matplotlib.pyplot as plt\n",
    "import pandas as pd"
   ]
  },
  {
   "cell_type": "code",
   "execution_count": null,
   "id": "d48c077c",
   "metadata": {},
   "outputs": [],
   "source": [
    "# Files to load/ variables declared connecting the csv files in the resources folder\n",
    "city_data_to_load = \"Resources/city_data.csv\"\n",
    "ride_data_to_load = \"Resources/ride_data.csv\""
   ]
  }
 ],
 "metadata": {
  "kernelspec": {
   "display_name": "PythonData",
   "language": "python",
   "name": "pythondata"
  },
  "language_info": {
   "codemirror_mode": {
    "name": "ipython",
    "version": 3
   },
   "file_extension": ".py",
   "mimetype": "text/x-python",
   "name": "python",
   "nbconvert_exporter": "python",
   "pygments_lexer": "ipython3",
   "version": "3.7.10"
  }
 },
 "nbformat": 4,
 "nbformat_minor": 5
}
